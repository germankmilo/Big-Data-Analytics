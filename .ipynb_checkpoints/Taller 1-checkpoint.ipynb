{
 "cells": [
  {
   "cell_type": "markdown",
   "metadata": {
    "collapsed": false,
    "scrolled": true
   },
   "source": [
    "# TALLER 1"
   ]
  },
  {
   "cell_type": "markdown",
   "metadata": {},
   "source": [
    "## 1) Cargar los archivos en formato de texto"
   ]
  },
  {
   "cell_type": "code",
   "execution_count": null,
   "metadata": {
    "collapsed": true
   },
   "outputs": [],
   "source": [
    "#Especificar cantidad de documentos\n",
    "cant=1000"
   ]
  },
  {
   "cell_type": "code",
   "execution_count": null,
   "metadata": {
    "collapsed": false
   },
   "outputs": [],
   "source": [
    "import os\n",
    "import re\n",
    "from bs4 import BeautifulSoup\n",
    "formato=\".txt\"\n",
    "inicio=0\n",
    "\n",
    "#Creamos la carpeta de las noticias si no existe\n",
    "if not os.path.exists('noticias'): \n",
    "    os.makedirs('noticias')\n",
    "\n",
    "for cont in range(1):\n",
    "    archivo = open(\"reuters21578/reut2-00%d%s\" %(cont,\".sgm\"), \"r\")\n",
    "    \n",
    "    \n",
    "    contenido = archivo.read()\n",
    "    html = BeautifulSoup(contenido, \"lxml\")\n",
    "    entradas = html.find_all('reuters')\n",
    "    #Creamos un documento por cada noticia\n",
    "    \n",
    "    for i,entrada in enumerate(entradas):\n",
    "        inicio=inicio+1\n",
    "        texto = entrada.find('text').getText()\n",
    "        documento= open(\"noticias/noticia%d%s\" %(inicio, formato), \"w\")\n",
    "        documento= open(\"noticias/noticia%d%s\" %(inicio, formato), \"a\")\n",
    "        documento.write(texto)\n",
    "            \n",
    "    documento.close()\n",
    "    print (\"%d documentos generados\" %(inicio))\n",
    "    archivo.close()\n",
    "\n",
    "print (\"TODOS LOS DOCUMENTOS HAN SIDO CREADOS CON EXITO\")"
   ]
  },
  {
   "cell_type": "markdown",
   "metadata": {},
   "source": [
    "## 2) Eliminar los stopwords (preposiciones, conectores, artículos, etc.) "
   ]
  },
  {
   "cell_type": "code",
   "execution_count": null,
   "metadata": {
    "collapsed": false,
    "scrolled": false
   },
   "outputs": [],
   "source": [
    "import os\n",
    "import re\n",
    "formato=\".txt\"\n",
    "stopwords= \"(\\n|\\t|\\-|\\+|\\/|'s | a | about | above | after | again | against | all | am | an | and | any | are | aren't | as | at | be | because | been | before | being | below | between | both | but | by | can't | cannot | could | couldn't | did | didn't | do | does | doesn't | doing | don't | down | during | each | few | for | from | further | had | hadn't | has | hasn't | have | haven't | having | he | he'd | he'll | he's | her | here | here's | hers | herself | him | himself | his | how | how's | i | i'd | i'll | i'm | i've | if | in | into | is | isn't | it | it's | its | itself | let's | me | more | most | mustn't | my | myself | no | nor | not | of | off | on | once | only | or | other | ought | our | ours | ourselves | out | over | own | same | shan't | she | she'd | she'll | she's | should | shouldn't | so | some | such | than | that | that's | the | their | theirs | them | themselves | then | there | there's | these | they | they'd | they'll | they're | they've | this | those | through | to | tobe | too | under | until | up | very | was | wasn't | we | we'd | we'll | we'be | we're | we've | were | weren't | what | what's | when | when's | where | where's | which | while | who | who's | whom | why | why's | with | won't | would | wouldn't | you | you'd | you'll | you're | you've | your | yours | yourself | yourselves )\"\n",
    "simbolos = \"(\\\\|\\'|\\;|\\:|\\?|\\¿|\\<|\\>|\\,|\\*|\\(|\\)|\\¡|\\!|\\$|\\#|\\||\\%|\\&|\\=|\\[|\\])\" \n",
    "\n",
    "#Creamos la carpeta de los archivos temporales si no existe\n",
    "if not os.path.exists('noticiasTEMP'): \n",
    "    os.makedirs('noticiasTEMP')\n",
    "\n",
    "#Leemos cada archivo, guardamos su informacion en la variable texto y procedemos a limpiarla\n",
    "for cont in range(cant):\n",
    "    archivo = open(\"noticias/noticia%d%s\" %(cont+1,formato), \"r\")\n",
    "    texto=archivo.read()\n",
    "    texto=texto.lower()\n",
    "    texto=' '+texto+' '\n",
    "    texto= texto.replace('.','')\n",
    "    texto= texto.replace('\\\"',' ')\n",
    "    texto=re.sub(simbolos,' ',texto)\n",
    "    texto=re.sub('[0-9]','',texto)\n",
    "    texto=re.sub(' +',' ',texto)\n",
    "    texto=re.sub(\"( '|' )\",' ',texto)\n",
    "    for a in range(5):\n",
    "        texto=re.sub(stopwords,' ',texto)\n",
    "    texto=re.sub(\"'\",' ',texto)    \n",
    "    documento= open(\"noticiasTEMP/noticiaTEMP%d%s\" %(cont+1, formato), \"w\")\n",
    "    documento= open(\"noticiasTEMP/noticiaTEMP%d%s\" %(cont+1, formato), \"a\")\n",
    "    documento.write(texto)\n",
    "    documento.close()\n",
    "    archivo.close()\n",
    "    if cont%1000==0:\n",
    "        print (\"%d archivos temporales generados\"%(cont))\n",
    "\n",
    "\n",
    "print (\"TODOS LOS DOCUMENTOS <<TEMPORALES>> HAN SIDO CREADOS CON EXITO\")\n",
    "\n"
   ]
  },
  {
   "cell_type": "markdown",
   "metadata": {},
   "source": [
    "## 3) Construir el diccionario"
   ]
  },
  {
   "cell_type": "code",
   "execution_count": null,
   "metadata": {
    "collapsed": false,
    "scrolled": true
   },
   "outputs": [],
   "source": [
    "lista = []\n",
    "\n",
    "for cont in range(cant):\n",
    "    file = open(\"noticiasTEMP/noticiaTEMP%d%s\" %(cont+1,\".txt\"), \"r\")\n",
    "    data=file.readlines()\n",
    "    file.close()\n",
    "\n",
    "    for renglon in data:\n",
    "        for palabra in renglon.split(' '):\n",
    "            if palabra not in lista:\n",
    "                lista.append(palabra)\n",
    "    if cont%1000==0:\n",
    "        print (cont)\n",
    "        \n",
    "lista.pop(0)\n",
    "print('Se han creado %d palabras en el Diccionario'%(len(lista)))"
   ]
  },
  {
   "cell_type": "markdown",
   "metadata": {
    "collapsed": true
   },
   "source": [
    "## 4) Representar cada documento como un vector (Vector Space Model)"
   ]
  },
  {
   "cell_type": "code",
   "execution_count": null,
   "metadata": {
    "collapsed": false
   },
   "outputs": [],
   "source": [
    "from time import time \n",
    "matriz = []\n",
    "tiempo_inicial = time() \n",
    "    \n",
    "for i in range(cant):\n",
    "    file = open(\"noticiasTEMP/noticiaTEMP%d%s\" %(i+1,\".txt\"), \"r\")\n",
    "    data=file.readlines()\n",
    "    file.close()\n",
    "    matriz.append([])\n",
    "    for j in range(len(lista)):\n",
    "        contador=0\n",
    "        for renglon in data:\n",
    "            for palabra in renglon.split(' '):\n",
    "                if palabra== lista[j]:\n",
    "                    contador=contador+1\n",
    "        matriz[i].append(contador)\n",
    "    if i%10==0:\n",
    "        print('%d filas generadas'%(i))        \n",
    "tiempo_final = time() \n",
    "tiempo_ejecucion = tiempo_final - tiempo_inicial                \n",
    "print ('Hecho: Tiempo de ejecución =%d' %(tiempo_ejecucion))"
   ]
  },
  {
   "cell_type": "markdown",
   "metadata": {
    "collapsed": false
   },
   "source": [
    "## 5) Matriz TFIDF\n",
    "        "
   ]
  },
  {
   "cell_type": "code",
   "execution_count": null,
   "metadata": {
    "collapsed": false
   },
   "outputs": [],
   "source": [
    "import math\n",
    "listacuenta=[]\n",
    "for j in range(len(lista)):\n",
    "    contador=0\n",
    "    for i in range(cant):\n",
    "        if matriz[i][j]!=0:\n",
    "            contador=contador+1\n",
    "    listacuenta.append(contador)\n",
    "\n",
    "tdfidf=[]   \n",
    "for i in range(cant):\n",
    "    tdfidf.append([])\n",
    "    for j in range (len(lista)):\n",
    "        if matriz[i][j]==0:\n",
    "            tdfidf[i].append(0)\n",
    "        else:\n",
    "            valor=matriz[i][j]*math.log((cant/(listacuenta[j])),10)\n",
    "            tdfidf[i].append(valor)\n",
    "            \n",
    "print('hecho')           "
   ]
  },
  {
   "cell_type": "markdown",
   "metadata": {
    "collapsed": true
   },
   "source": [
    "## 6) Indice Invertido"
   ]
  },
  {
   "cell_type": "code",
   "execution_count": null,
   "metadata": {
    "collapsed": false
   },
   "outputs": [],
   "source": [
    "indiceinv=[]\n",
    "for j in range(len(lista)):\n",
    "    contador=0\n",
    "    indiceinv.append([])\n",
    "    for i in range(cant):\n",
    "        if matriz[i][j]!=0:\n",
    "            indiceinv[j].append(i+1)\n",
    "            \n",
    "print('hecho')"
   ]
  },
  {
   "cell_type": "markdown",
   "metadata": {
    "collapsed": true
   },
   "source": [
    "## 7) Buscador"
   ]
  },
  {
   "cell_type": "code",
   "execution_count": null,
   "metadata": {
    "collapsed": false
   },
   "outputs": [],
   "source": [
    "def busqueda(query):\n",
    "    query=' '+query+' '\n",
    "    query=query.lower()\n",
    "    query= query.replace('.','')\n",
    "    query= query.replace('\\\"',' ')\n",
    "    query=re.sub(simbolos,' ',query)\n",
    "    query=re.sub('[0-9]','',query)\n",
    "    query=re.sub(' +',' ',query)\n",
    "    query=re.sub(\"( '|' )\",' ',query)\n",
    "    for a in range(5):\n",
    "        query=re.sub(stopwords,' ',query)\n",
    "    return query\n",
    "\n",
    "def diccionario_query(query):\n",
    "    dicquery=query.split(\" \")\n",
    "    dicquery.pop(0)\n",
    "    dicquery.pop(-1)\n",
    "    return dicquery\n",
    "\n",
    "\n",
    "def frec_query(listaquery):\n",
    "    frec_query=[]*len(lista)\n",
    "    for i in range(len(lista)):\n",
    "        frec_query.append(0)\n",
    "\n",
    "    for i in range(len(listaquery)):\n",
    "        if listaquery[i] in lista:\n",
    "            ind=lista.index(listaquery[i])\n",
    "            valor = frec_query[ind]+1\n",
    "            frec_query[ind]=valor\n",
    "    return frec_query    \n",
    "        \n",
    "\n",
    "def tfidf_query(frec_query):\n",
    "    tfidf_query=[]\n",
    "    for i in range(len(frec_query)):\n",
    "        tfidf_query.append(0)\n",
    "    for i in range(len(frec_query)):\n",
    "        if frec_query[i]!=0:\n",
    "            tfidf_query[i]=frec_query[i]*math.log((cant/(listacuenta[i])),10)\n",
    "           \n",
    "    return tfidf_query \n",
    "\n",
    "\n",
    "def consul_invertido(frec_query,indiceinv):\n",
    "    arraydocumento=[]\n",
    "    for i in range(len(frec_query)):\n",
    "        if frec_query[i]!=0:\n",
    "            arraydocumento=list(set().union(arraydocumento, indiceinv[i]))\n",
    "    return arraydocumento        \n",
    " \n",
    "def producto_punto(arraydocumento, tfidf_query):\n",
    "    resultados=[]\n",
    "    for i in range(len(arraydocumento)):\n",
    "        resultados\n",
    "        c=arraydocumento[i]\n",
    "        suma=0\n",
    "        sumaden1=0\n",
    "        sumaden2=0\n",
    "        for r in range(len(lista)):\n",
    "            suma=suma+(tdfidf[c-1][r]*tfidf_query[r])\n",
    "            sumaden1=sumaden1+pow(tfidf_query[r],2)\n",
    "            sumaden2=sumaden2+pow(tdfidf[c-1][r],2)\n",
    "        \n",
    "        simcos=(suma/(math.sqrt(sumaden1)+math.sqrt(sumaden2)))\n",
    "        resultados.append(simcos)\n",
    "    return resultados\n",
    "\n",
    "    \n",
    "    "
   ]
  },
  {
   "cell_type": "code",
   "execution_count": null,
   "metadata": {
    "collapsed": false
   },
   "outputs": [],
   "source": [
    "from ipywidgets import widgets\n",
    "from IPython.core.display import display, HTML\n",
    "from IPython.display import display\n",
    "from itertools import islice\n",
    "button=widgets.Button(description=\"Buscar\")\n",
    "text=widgets.Text()\n",
    "display(text) \n",
    "display(button)\n",
    "\n",
    "def mititulo(documentos, resultados):\n",
    "    display(HTML('<h1>RESULTADOS</h1>'))\n",
    "    for i in range(len(documentos)):\n",
    "        valor=max(resultados)\n",
    "        pos=resultados.index(valor)\n",
    "        noticia=documentos[pos]\n",
    "        file = open(\"noticias/noticia%d%s\" %(noticia,\".txt\"), \"r\")\n",
    "        tit=islice(file,1,2)\n",
    "        desc=islice(file,0,4)\n",
    "        descripcion=\"\"\n",
    "        for linea in tit:\n",
    "            titulo=linea\n",
    "        for linea in desc:\n",
    "            descripcion=descripcion+\" \"+linea\n",
    "        descripcion= descripcion.replace('\\n',' ')\n",
    "        file.close()\n",
    "        display(HTML('<b><a href=\"noticias/noticia%d.txt\" target=\"_blank\">[%d] %s</a></b>%s...'%(noticia,i+1,titulo,descripcion)))\n",
    "        resultados.pop(pos)\n",
    "        documentos.pop(pos)\n",
    "\n",
    "          \n",
    "        \n",
    "\n",
    "        \n",
    "        \n",
    "def handle_submit (sender):\n",
    "    query=busqueda(text.value)\n",
    "    lista=diccionario_query(query)\n",
    "    queryfrecuencias=frec_query(lista)\n",
    "    tfidfquery=tfidf_query(queryfrecuencias)\n",
    "    documentos=consul_invertido(queryfrecuencias, indiceinv)\n",
    "    producto=producto_punto(documentos,tfidfquery)\n",
    "    mititulo(documentos, producto)\n",
    "    \n",
    "    \n",
    "\n",
    "\n",
    "def actionboton(b):\n",
    "    query=busqueda(text.value)\n",
    "    lista=diccionario_query(query)\n",
    "    queryfrecuencias=frec_query(lista)\n",
    "    tfidfquery=tfidf_query(queryfrecuencias)\n",
    "    documentos=consul_invertido(queryfrecuencias, indiceinv)\n",
    "    producto=producto_punto(documentos,tfidfquery)\n",
    "    mititulo(documentos, producto)\n",
    "    \n",
    "    \n",
    "    \n",
    "    \n",
    "text.on_submit(handle_submit)\n",
    "button.on_click(actionboton)\n"
   ]
  },
  {
   "cell_type": "code",
   "execution_count": null,
   "metadata": {
    "collapsed": false
   },
   "outputs": [],
   "source": [
    "\n"
   ]
  },
  {
   "cell_type": "code",
   "execution_count": null,
   "metadata": {
    "collapsed": false
   },
   "outputs": [],
   "source": []
  },
  {
   "cell_type": "code",
   "execution_count": null,
   "metadata": {
    "collapsed": true
   },
   "outputs": [],
   "source": []
  }
 ],
 "metadata": {
  "anaconda-cloud": {},
  "kernelspec": {
   "display_name": "Python [Root]",
   "language": "python",
   "name": "Python [Root]"
  },
  "language_info": {
   "codemirror_mode": {
    "name": "ipython",
    "version": 3
   },
   "file_extension": ".py",
   "mimetype": "text/x-python",
   "name": "python",
   "nbconvert_exporter": "python",
   "pygments_lexer": "ipython3",
   "version": "3.5.2"
  }
 },
 "nbformat": 4,
 "nbformat_minor": 0
}
