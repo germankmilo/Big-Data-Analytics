{
 "cells": [
  {
   "cell_type": "markdown",
   "metadata": {
    "collapsed": false,
    "scrolled": true
   },
   "source": [
    "# TALLER 1"
   ]
  },
  {
   "cell_type": "markdown",
   "metadata": {},
   "source": [
    "## 1) Cargar los archivos en formato de texto"
   ]
  },
  {
   "cell_type": "code",
   "execution_count": null,
   "metadata": {
    "collapsed": false
   },
   "outputs": [],
   "source": [
    "import os\n",
    "import re\n",
    "from bs4 import BeautifulSoup\n",
    "formato=\".txt\"\n",
    "inicio=0\n",
    "\n",
    "#Creamos la carpeta de las noticias si no existe\n",
    "if not os.path.exists('noticias'): \n",
    "    os.makedirs('noticias')\n",
    "\n",
    "for cont in range(0,22):\n",
    "    if cont<10:\n",
    "        archivo = open(\"reuters21578/reut2-00%d%s\" %(cont,\".sgm\"), \"r\")\n",
    "    else:\n",
    "        archivo = open(\"reuters21578/reut2-0%d%s\" %(cont,\".sgm\"), \"r\")\n",
    "    \n",
    "    contenido = archivo.read()\n",
    "    html = BeautifulSoup(contenido, \"lxml\")\n",
    "    entradas = html.find_all('reuters')\n",
    "    #Creamos un documento por cada noticia\n",
    "    \n",
    "    for i,entrada in enumerate(entradas):\n",
    "        inicio=inicio+1\n",
    "        texto = entrada.find('text').getText()\n",
    "        documento= open(\"noticias/noticia%d%s\" %(inicio, formato), \"w\")\n",
    "        documento= open(\"noticias/noticia%d%s\" %(inicio, formato), \"a\")\n",
    "        documento.write(texto)\n",
    "            \n",
    "    documento.close()\n",
    "    print (\"%d documentos generados\" %(inicio))\n",
    "    archivo.close()\n",
    "\n",
    "print (\"TODOS LOS DOCUMENTOS HAN SIDO CREADOS CON EXITO\")"
   ]
  },
  {
   "cell_type": "markdown",
   "metadata": {},
   "source": [
    "## 2) Eliminar los stopwords (preposiciones, conectores, artículos, etc.) "
   ]
  },
  {
   "cell_type": "code",
   "execution_count": null,
   "metadata": {
    "collapsed": false,
    "scrolled": false
   },
   "outputs": [],
   "source": [
    "import os\n",
    "import re\n",
    "formato=\".txt\"\n",
    "stopwords= \"(\\n|\\t|\\-|\\+|\\/|'s | a | about | above | after | again | against | all | am | an | and | any | are | aren't | as | at | be | because | been | before | being | below | between | both | but | by | can't | cannot | could | couldn't | did | didn't | do | does | doesn't | doing | don't | down | during | each | few | for | from | further | had | hadn't | has | hasn't | have | haven't | having | he | he'd | he'll | he's | her | here | here's | hers | herself | him | himself | his | how | how's | i | i'd | i'll | i'm | i've | if | in | into | is | isn't | it | it's | its | itself | let's | me | more | most | mustn't | my | myself | no | nor | not | of | off | on | once | only | or | other | ought | our | ours | ourselves | out | over | own | same | shan't | she | she'd | she'll | she's | should | shouldn't | so | some | such | than | that | that's | the | their | theirs | them | themselves | then | there | there's | these | they | they'd | they'll | they're | they've | this | those | through | to | tobe | too | under | until | up | very | was | wasn't | we | we'd | we'll | we'be | we're | we've | were | weren't | what | what's | when | when's | where | where's | which | while | who | who's | whom | why | why's | with | won't | would | wouldn't | you | you'd | you'll | you're | you've | your | yours | yourself | yourselves )\"\n",
    "simbolos = \"(\\\\|\\'|\\;|\\:|\\?|\\¿|\\<|\\>|\\,|\\*|\\(|\\)|\\¡|\\!|\\$|\\#|\\||\\%|\\&|\\=|\\[|\\])\" \n",
    "\n",
    "#Creamos la carpeta de los archivos temporales si no existe\n",
    "if not os.path.exists('noticiasTEMP'): \n",
    "    os.makedirs('noticiasTEMP')\n",
    "\n",
    "#Leemos cada archivo, guardamos su informacion en la variable texto y procedemos a limpiarla\n",
    "for cont in range(1,21579):\n",
    "    archivo = open(\"noticias/noticia%d%s\" %(cont,formato), \"r\")\n",
    "    texto=archivo.read()\n",
    "    texto=texto.lower()\n",
    "    texto= texto.replace('.','')\n",
    "    texto= texto.replace('\\\"',' ')\n",
    "    texto=re.sub(simbolos,' ',texto)\n",
    "    texto=re.sub('[0-9]','',texto)\n",
    "    texto=re.sub(' +',' ',texto)\n",
    "    texto=re.sub(\"( '|' )\",' ',texto)\n",
    "    for a in range(0,5):\n",
    "        texto=re.sub(stopwords,' ',texto)\n",
    "    texto=re.sub(\"'\",' ',texto)    \n",
    "    documento= open(\"noticiasTEMP/noticiaTEMP%d%s\" %(cont, formato), \"w\")\n",
    "    documento= open(\"noticiasTEMP/noticiaTEMP%d%s\" %(cont, formato), \"a\")\n",
    "    documento.write(texto)\n",
    "    documento.close()\n",
    "    archivo.close()\n",
    "    if cont%1000==0:\n",
    "        print (\"%d archivos temporales generados\"%(cont))\n",
    "\n",
    "\n",
    "print (\"TODOS LOS DOCUMENTOS <<TEMPORALES>> HAN SIDO CREADOS CON EXITO\")\n",
    "\n"
   ]
  },
  {
   "cell_type": "markdown",
   "metadata": {},
   "source": [
    "## 3) Construir el diccionario"
   ]
  },
  {
   "cell_type": "code",
   "execution_count": null,
   "metadata": {
    "collapsed": false,
    "scrolled": true
   },
   "outputs": [],
   "source": [
    "lista = []\n",
    "\n",
    "for cont in range(1,21579):\n",
    "    file = open(\"noticiasTEMP/noticiaTEMP%d%s\" %(cont,\".txt\"), \"r\")\n",
    "    data=file.readlines()\n",
    "    file.close()\n",
    "\n",
    "    for renglon in data:\n",
    "        for palabra in renglon.split(' '):\n",
    "            if palabra not in lista:\n",
    "                lista.append(palabra)\n",
    "    if cont%1000==0:\n",
    "        print (cont)\n",
    "print (lista) \n",
    "print (cont)"
   ]
  },
  {
   "cell_type": "code",
   "execution_count": null,
   "metadata": {
    "collapsed": true
   },
   "outputs": [],
   "source": []
  }
 ],
 "metadata": {
  "anaconda-cloud": {},
  "kernelspec": {
   "display_name": "Python [Root]",
   "language": "python",
   "name": "Python [Root]"
  },
  "language_info": {
   "codemirror_mode": {
    "name": "ipython",
    "version": 3
   },
   "file_extension": ".py",
   "mimetype": "text/x-python",
   "name": "python",
   "nbconvert_exporter": "python",
   "pygments_lexer": "ipython3",
   "version": "3.5.2"
  }
 },
 "nbformat": 4,
 "nbformat_minor": 0
}
