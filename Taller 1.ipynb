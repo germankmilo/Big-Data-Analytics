{
 "cells": [
  {
   "cell_type": "markdown",
   "metadata": {
    "collapsed": false,
    "scrolled": true
   },
   "source": [
    "# TALLER 1"
   ]
  },
  {
   "cell_type": "markdown",
   "metadata": {},
   "source": [
    "## 1) Cargar los archivos en formato de texto"
   ]
  },
  {
   "cell_type": "code",
   "execution_count": null,
   "metadata": {
    "collapsed": true
   },
   "outputs": [],
   "source": [
    "#Especificar cantidad de documentos\n",
    "cant=50"
   ]
  },
  {
   "cell_type": "code",
   "execution_count": null,
   "metadata": {
    "collapsed": false
   },
   "outputs": [],
   "source": [
    "import os\n",
    "import re\n",
    "from bs4 import BeautifulSoup\n",
    "formato=\".txt\"\n",
    "inicio=0\n",
    "\n",
    "#Creamos la carpeta de las noticias si no existe\n",
    "if not os.path.exists('noticias'): \n",
    "    os.makedirs('noticias')\n",
    "\n",
    "for cont in range(1):\n",
    "    archivo = open(\"reuters21578/reut2-00%d%s\" %(cont,\".sgm\"), \"r\")\n",
    "    \n",
    "    \n",
    "    contenido = archivo.read()\n",
    "    html = BeautifulSoup(contenido, \"lxml\")\n",
    "    entradas = html.find_all('reuters')\n",
    "    #Creamos un documento por cada noticia\n",
    "    \n",
    "    for i,entrada in enumerate(entradas):\n",
    "        inicio=inicio+1\n",
    "        texto = entrada.find('text').getText()\n",
    "        documento= open(\"noticias/noticia%d%s\" %(inicio, formato), \"w\")\n",
    "        documento= open(\"noticias/noticia%d%s\" %(inicio, formato), \"a\")\n",
    "        documento.write(texto)\n",
    "            \n",
    "    documento.close()\n",
    "    print (\"%d documentos generados\" %(inicio))\n",
    "    archivo.close()\n",
    "\n",
    "print (\"TODOS LOS DOCUMENTOS HAN SIDO CREADOS CON EXITO\")"
   ]
  },
  {
   "cell_type": "markdown",
   "metadata": {},
   "source": [
    "## 2) Eliminar los stopwords (preposiciones, conectores, artículos, etc.) "
   ]
  },
  {
   "cell_type": "code",
   "execution_count": null,
   "metadata": {
    "collapsed": false,
    "scrolled": false
   },
   "outputs": [],
   "source": [
    "import os\n",
    "import re\n",
    "formato=\".txt\"\n",
    "stopwords= \"(\\n|\\t|\\-|\\+|\\/|'s | a | about | above | after | again | against | all | am | an | and | any | are | aren't | as | at | be | because | been | before | being | below | between | both | but | by | can't | cannot | could | couldn't | did | didn't | do | does | doesn't | doing | don't | down | during | each | few | for | from | further | had | hadn't | has | hasn't | have | haven't | having | he | he'd | he'll | he's | her | here | here's | hers | herself | him | himself | his | how | how's | i | i'd | i'll | i'm | i've | if | in | into | is | isn't | it | it's | its | itself | let's | me | more | most | mustn't | my | myself | no | nor | not | of | off | on | once | only | or | other | ought | our | ours | ourselves | out | over | own | same | shan't | she | she'd | she'll | she's | should | shouldn't | so | some | such | than | that | that's | the | their | theirs | them | themselves | then | there | there's | these | they | they'd | they'll | they're | they've | this | those | through | to | tobe | too | under | until | up | very | was | wasn't | we | we'd | we'll | we'be | we're | we've | were | weren't | what | what's | when | when's | where | where's | which | while | who | who's | whom | why | why's | with | won't | would | wouldn't | you | you'd | you'll | you're | you've | your | yours | yourself | yourselves )\"\n",
    "simbolos = \"(\\\\|\\'|\\;|\\:|\\?|\\¿|\\<|\\>|\\,|\\*|\\(|\\)|\\¡|\\!|\\$|\\#|\\||\\%|\\&|\\=|\\[|\\])\" \n",
    "\n",
    "#Creamos la carpeta de los archivos temporales si no existe\n",
    "if not os.path.exists('noticiasTEMP'): \n",
    "    os.makedirs('noticiasTEMP')\n",
    "\n",
    "#Leemos cada archivo, guardamos su informacion en la variable texto y procedemos a limpiarla\n",
    "for cont in range(cant):\n",
    "    archivo = open(\"noticias/noticia%d%s\" %(cont+1,formato), \"r\")\n",
    "    texto=archivo.read()\n",
    "    texto=texto.lower()\n",
    "    texto=' '+texto+' '\n",
    "    texto= texto.replace('.','')\n",
    "    texto= texto.replace('\\\"',' ')\n",
    "    texto=re.sub(simbolos,' ',texto)\n",
    "    texto=re.sub('[0-9]','',texto)\n",
    "    texto=re.sub(' +',' ',texto)\n",
    "    texto=re.sub(\"( '|' )\",' ',texto)\n",
    "    for a in range(5):\n",
    "        texto=re.sub(stopwords,' ',texto)\n",
    "    texto=re.sub(\"'\",' ',texto)    \n",
    "    documento= open(\"noticiasTEMP/noticiaTEMP%d%s\" %(cont+1, formato), \"w\")\n",
    "    documento= open(\"noticiasTEMP/noticiaTEMP%d%s\" %(cont+1, formato), \"a\")\n",
    "    documento.write(texto)\n",
    "    documento.close()\n",
    "    archivo.close()\n",
    "    if cont%1000==0:\n",
    "        print (\"%d archivos temporales generados\"%(cont))\n",
    "\n",
    "\n",
    "print (\"TODOS LOS DOCUMENTOS <<TEMPORALES>> HAN SIDO CREADOS CON EXITO\")\n",
    "\n"
   ]
  },
  {
   "cell_type": "markdown",
   "metadata": {},
   "source": [
    "## 3) Construir el diccionario"
   ]
  },
  {
   "cell_type": "code",
   "execution_count": null,
   "metadata": {
    "collapsed": false,
    "scrolled": true
   },
   "outputs": [],
   "source": [
    "lista = []\n",
    "\n",
    "for cont in range(cant):\n",
    "    file = open(\"noticiasTEMP/noticiaTEMP%d%s\" %(cont+1,\".txt\"), \"r\")\n",
    "    data=file.readlines()\n",
    "    file.close()\n",
    "\n",
    "    for renglon in data:\n",
    "        for palabra in renglon.split(' '):\n",
    "            if palabra not in lista:\n",
    "                lista.append(palabra)\n",
    "    if cont%1000==0:\n",
    "        print (cont)\n",
    "        \n",
    "lista.pop(0)\n",
    "print('Se han creado %d palabras en el Diccionario'%(len(lista)))"
   ]
  },
  {
   "cell_type": "markdown",
   "metadata": {
    "collapsed": true
   },
   "source": [
    "## 4) Representar cada documento como un vector (Vector Space Model)"
   ]
  },
  {
   "cell_type": "code",
   "execution_count": null,
   "metadata": {
    "collapsed": false
   },
   "outputs": [],
   "source": [
    "from time import time \n",
    "matriz = []\n",
    "tiempo_inicial = time() \n",
    "    \n",
    "for i in range(cant):\n",
    "    file = open(\"noticiasTEMP/noticiaTEMP%d%s\" %(i+1,\".txt\"), \"r\")\n",
    "    data=file.readlines()\n",
    "    file.close()\n",
    "    matriz.append([])\n",
    "    for j in range(len(lista)):\n",
    "        contador=0\n",
    "        for renglon in data:\n",
    "            for palabra in renglon.split(' '):\n",
    "                if palabra== lista[j]:\n",
    "                    contador=contador+1\n",
    "        matriz[i].append(contador)\n",
    "    if i%10==0:\n",
    "        print('%d filas generadas'%(i))        \n",
    "tiempo_final = time() \n",
    "tiempo_ejecucion = tiempo_final - tiempo_inicial                \n",
    "print ('Hecho: Tiempo de ejecución =%d' %(tiempo_ejecucion))"
   ]
  },
  {
   "cell_type": "markdown",
   "metadata": {
    "collapsed": false
   },
   "source": [
    "## 5) Matriz TFIDF\n",
    "        "
   ]
  },
  {
   "cell_type": "code",
   "execution_count": null,
   "metadata": {
    "collapsed": false
   },
   "outputs": [],
   "source": [
    "import math\n",
    "listacuenta=[]\n",
    "for j in range(len(lista)):\n",
    "    contador=0\n",
    "    for i in range(cant):\n",
    "        if matriz[i][j]!=0:\n",
    "            contador=contador+1\n",
    "    listacuenta.append(contador)\n",
    "\n",
    "tdfidf=[]   \n",
    "for i in range(cant):\n",
    "    tdfidf.append([])\n",
    "    for j in range (len(lista)):\n",
    "        if matriz[i][j]==0:\n",
    "            tdfidf[i].append(0)\n",
    "        else:\n",
    "            valor=matriz[i][j]*math.log((cant/(listacuenta[j])),10)\n",
    "            tdfidf[i].append(valor)\n",
    "print (tdfidf)            \n",
    "            "
   ]
  },
  {
   "cell_type": "markdown",
   "metadata": {
    "collapsed": true
   },
   "source": [
    "## 6) Indice Invertido"
   ]
  },
  {
   "cell_type": "code",
   "execution_count": null,
   "metadata": {
    "collapsed": false
   },
   "outputs": [],
   "source": [
    "indiceinv=[]\n",
    "for j in range(len(lista)):\n",
    "    contador=0\n",
    "    indiceinv.append([])\n",
    "    for i in range(cant):\n",
    "        if matriz[i][j]!=0:\n",
    "            indiceinv[j].append(i+1)\n",
    "            \n",
    "print(indiceinv)"
   ]
  },
  {
   "cell_type": "markdown",
   "metadata": {
    "collapsed": true
   },
   "source": [
    "## 7) Buscador"
   ]
  },
  {
   "cell_type": "code",
   "execution_count": null,
   "metadata": {
    "collapsed": false
   },
   "outputs": [],
   "source": [
    "def busqueda(query):\n",
    "    query=' '+query+' '\n",
    "    query=query.lower()\n",
    "    query= query.replace('.','')\n",
    "    query= query.replace('\\\"',' ')\n",
    "    query=re.sub(simbolos,' ',query)\n",
    "    query=re.sub('[0-9]','',query)\n",
    "    query=re.sub(' +',' ',query)\n",
    "    query=re.sub(\"( '|' )\",' ',query)\n",
    "    for a in range(5):\n",
    "        query=re.sub(stopwords,' ',query)\n",
    "    return query\n",
    "\n",
    "def diccionario_query(query):\n",
    "    dicquery=query.split(\" \")\n",
    "    dicquery.pop(0)\n",
    "    dicquery.pop(-1)\n",
    "    return dicquery\n",
    "\n",
    "\n",
    "def frec_query(listaquery):\n",
    "    frec_query=[]*len(lista)\n",
    "    for i in range(len(lista)):\n",
    "        frec_query.append(0)\n",
    "\n",
    "    for i in range(len(listaquery)):\n",
    "        if listaquery[i] in lista:\n",
    "            ind=lista.index(listaquery[i])\n",
    "            valor = frec_query[ind]+1\n",
    "            frec_query[ind]=valor\n",
    "    return frec_query    \n",
    "        \n",
    "\n",
    "def tfidf_query(frec_query):\n",
    "    tfidf_query=[]\n",
    "    for i in range(len(frec_query)):\n",
    "        tfidf_query.append(0)\n",
    "    for i in range(len(frec_query)):\n",
    "        if frec_query[i]!=0:\n",
    "            tfidf_query[i]=frec_query[i]*math.log((cant/(listacuenta[i])),10)\n",
    "           \n",
    "    return tfidf_query \n",
    "\n",
    "\n",
    "def consul_invertido(frec_query,indiceinv):\n",
    "    arraydocumento=[]\n",
    "    for i in range(len(frec_query)):\n",
    "        if frec_query[i]!=0:\n",
    "            arraydocumento=list(set().union(arraydocumento, indiceinv[i]))\n",
    "    return arraydocumento        \n",
    " \n",
    "def producto_punto(arraydocumento, tfidf_query):\n",
    "    resultados=[]\n",
    "    for i in range(len(arraydocumento)):\n",
    "        resultados\n",
    "        c=arraydocumento[i]\n",
    "        suma=0\n",
    "        sumaden1=0\n",
    "        sumaden2=0\n",
    "        for r in range(len(lista)):\n",
    "            suma=suma+(tdfidf[c-1][r]*tfidf_query[r])\n",
    "            sumaden1=sumaden1+pow(tfidf_query[r],2)\n",
    "            sumaden2=sumaden2+pow(tdfidf[c-1][r],2)\n",
    "        \n",
    "        simcos=(suma/(math.sqrt(sumaden1)+math.sqrt(sumaden2)))\n",
    "        resultados.append(simcos)\n",
    "    return resultados\n",
    "\n",
    "    \n",
    "    "
   ]
  },
  {
   "cell_type": "code",
   "execution_count": null,
   "metadata": {
    "collapsed": false
   },
   "outputs": [
    {
     "data": {
      "text/html": [
       "<h1>RESULTADOS</h1>"
      ],
      "text/plain": [
       "<IPython.core.display.HTML object>"
      ]
     },
     "metadata": {},
     "output_type": "display_data"
    },
    {
     "data": {
      "text/html": [
       "<b><a href=\"noticias/noticia6.txt\" target=\"_blank\">[1] ARGENTINE 1986/87 GRAIN/OILSEED REGISTRATIONS\n",
       "</a></b>     BUENOS AIRES, Feb 26 - Argentine grain board figures show  crop registrations of grains, oilseeds and their products to  February 11, in thousands of tonnes, showing those for futurE  shipments month, 1986/87 total and 1985/86 total to February ..."
      ],
      "text/plain": [
       "<IPython.core.display.HTML object>"
      ]
     },
     "metadata": {},
     "output_type": "display_data"
    },
    {
     "data": {
      "text/html": [
       "<b><a href=\"noticias/noticia36.txt\" target=\"_blank\">[2] OWENS AND MINOR INC <OBOD> RAISES QTLY DIVIDEND\n",
       "</a></b>     RICHMOND, Va. Feb 26 -      Qtly div eights cts vs 7.5 cts prior      Pay March 31      Record March 13 ..."
      ],
      "text/plain": [
       "<IPython.core.display.HTML object>"
      ]
     },
     "metadata": {},
     "output_type": "display_data"
    },
    {
     "data": {
      "text/html": [
       "<b><a href=\"noticias/noticia14.txt\" target=\"_blank\">[3] BROWN-FORMAN INC <BFD> 4TH QTR NET\n",
       "</a></b>     LOUISVILLE, Ky., Feb 26 -      Shr one dlr vs 73 cts      Net 12.6 mln vs 15.8 mln      Revs 337.3 mln vs 315.2 mln ..."
      ],
      "text/plain": [
       "<IPython.core.display.HTML object>"
      ]
     },
     "metadata": {},
     "output_type": "display_data"
    },
    {
     "data": {
      "text/html": [
       "<b><a href=\"noticias/noticia11.txt\" target=\"_blank\">[4] COBANCO INC <CBCO> YEAR NET\n",
       "</a></b>     SANTA CRUZ, Calif., Feb 26 -      Shr 34 cts vs 1.19 dlrs      Net 807,000 vs 2,858,000      Assets 510.2 mln vs 479.7 mln ..."
      ],
      "text/plain": [
       "<IPython.core.display.HTML object>"
      ]
     },
     "metadata": {},
     "output_type": "display_data"
    },
    {
     "data": {
      "text/html": [
       "<b><a href=\"noticias/noticia50.txt\" target=\"_blank\">[5] AMERICA FIRST MORTGAGE SETS SPECIAL PAYOUT\n",
       "</a></b>     OMAHA, Neb., Feb 26 - <America First Federally Guaranteed  Mortgage Fund Two> said it is making a special distribution of  71.6 cts per exchangeable unit, which includes 67.62 cts from  return on capital and 3.98 cts from income gains. ..."
      ],
      "text/plain": [
       "<IPython.core.display.HTML object>"
      ]
     },
     "metadata": {},
     "output_type": "display_data"
    },
    {
     "data": {
      "text/html": [
       "<b><a href=\"noticias/noticia48.txt\" target=\"_blank\">[6] N.Z. OFFICIAL FOREIGN RESERVES FALL IN JANUARY\n",
       "</a></b>     WELLINGTON, Feb 27 - New Zealand's official foreign  reserves fell to 7.15 billion N.Z. Dlrs in January from 7.20  billion dlrs in December and compared with 3.03 billion a year  ago period, the Reserve Bank said in its weekly statistical ..."
      ],
      "text/plain": [
       "<IPython.core.display.HTML object>"
      ]
     },
     "metadata": {},
     "output_type": "display_data"
    },
    {
     "data": {
      "text/html": [
       "<b><a href=\"noticias/noticia9.txt\" target=\"_blank\">[7] CHAMPION PRODUCTS <CH> APPROVES STOCK SPLIT\n",
       "</a></b>     ROCHESTER, N.Y., Feb 26 - Champion Products Inc said its  board of directors approved a two-for-one stock split of its  common shares for shareholders of record as of April 1, 1987.      The company also said its board voted to recommend to ..."
      ],
      "text/plain": [
       "<IPython.core.display.HTML object>"
      ]
     },
     "metadata": {},
     "output_type": "display_data"
    },
    {
     "data": {
      "text/html": [
       "<b><a href=\"noticias/noticia35.txt\" target=\"_blank\">[8] FIRST UNION <FUNC> FILES 100 MLN DLR NOTES ISSUE\n",
       "</a></b>     NEW YORK, Feb 26 - First Union Corp said it has filed with  the Securities and Exchange Commission for a proposed offering  of 100 mln dlrs of fixed rate subordinated notes due 1997.      The notes will be sold nationwide through underwriters ..."
      ],
      "text/plain": [
       "<IPython.core.display.HTML object>"
      ]
     },
     "metadata": {},
     "output_type": "display_data"
    },
    {
     "data": {
      "text/html": [
       "<b><a href=\"noticias/noticia22.txt\" target=\"_blank\">[9] MAGMA LOWERS COPPER 0.75 CENT TO 66 CTS\n",
       "</a></b>     NEW YORK, Feb 26 - Magma Copper Co, a subsidiary of Newmont  Mining Corp, said it is cutting its copper cathode price by  0.75 cent to 66 cents a lb, effective immediately.   Reuter ..."
      ],
      "text/plain": [
       "<IPython.core.display.HTML object>"
      ]
     },
     "metadata": {},
     "output_type": "display_data"
    },
    {
     "data": {
      "text/html": [
       "<b><a href=\"noticias/noticia34.txt\" target=\"_blank\">[10] CCX NETWORK <CCXN> SECONDARY OFFERING UNDERWAY\n",
       "</a></b>     CONWAY, Ark., Feb 26 - CCX Network Inc said it was offering  220,838 shares of stock at 15.75 dlrs a share though  underwriters Stephens Inc and Cazenove Inc.      The company said it was selling the stock on behalf of some ..."
      ],
      "text/plain": [
       "<IPython.core.display.HTML object>"
      ]
     },
     "metadata": {},
     "output_type": "display_data"
    },
    {
     "data": {
      "text/html": [
       "<b><a href=\"noticias/noticia27.txt\" target=\"_blank\">[11] UNITED PRESIDENTIAL CORP <UPCO> 4TH QTR NET\n",
       "</a></b>     KOKOMO, Ind., Feb 26 -      Shr 39 cts vs 50 cts      Net 1,545,160 vs 2,188,933      Revs 25.2 mln vs 19.5 mln ..."
      ],
      "text/plain": [
       "<IPython.core.display.HTML object>"
      ]
     },
     "metadata": {},
     "output_type": "display_data"
    },
    {
     "data": {
      "text/html": [
       "<b><a href=\"noticias/noticia38.txt\" target=\"_blank\">[12] <CINRAM LTD> 4TH QTR NET\n",
       "</a></b>     Scarborough, Ontario, Feb 26 -      Shr 45 cts vs 58 cts      Net 1.1 mln vs 829,000      Sales 7.9 mln vs 9.4 mln ..."
      ],
      "text/plain": [
       "<IPython.core.display.HTML object>"
      ]
     },
     "metadata": {},
     "output_type": "display_data"
    },
    {
     "data": {
      "text/html": [
       "<b><a href=\"noticias/noticia33.txt\" target=\"_blank\">[13] EXCELAN INC SETS INITIAL STOCK OFFER\n",
       "</a></b>     SAN JOSE, Calif., Feb 26 - Excelan Inc said it is making an  initial public offering of 2,129,300 shares of common stock at  12 dlrs per share.      Excelan said 1.6 mln of the shares are being sold by the ..."
      ],
      "text/plain": [
       "<IPython.core.display.HTML object>"
      ]
     },
     "metadata": {},
     "output_type": "display_data"
    },
    {
     "data": {
      "text/html": [
       "<b><a href=\"noticias/noticia25.txt\" target=\"_blank\">[14] SHEARSON LEHMAN NAMES NEW MANAGING DIRECTOR\n",
       "</a></b>     NEW YORK, Feb 26 - Shearson Lehman Brothers, a unit of  American Express Co <AXP>, said Robert Stearns has joined the  company as managing director of its merger and acquisition  department. ..."
      ],
      "text/plain": [
       "<IPython.core.display.HTML object>"
      ]
     },
     "metadata": {},
     "output_type": "display_data"
    },
    {
     "data": {
      "text/html": [
       "<b><a href=\"noticias/noticia3.txt\" target=\"_blank\">[15] TEXAS COMMERCE BANCSHARES <TCB> FILES PLAN\n",
       "</a></b>     HOUSTON, Feb 26 - Texas Commerce Bancshares Inc's Texas  Commerce Bank-Houston said it filed an application with the  Comptroller of the Currency in an effort to create the largest  banking network in Harris County. ..."
      ],
      "text/plain": [
       "<IPython.core.display.HTML object>"
      ]
     },
     "metadata": {},
     "output_type": "display_data"
    },
    {
     "data": {
      "text/html": [
       "<b><a href=\"noticias/noticia40.txt\" target=\"_blank\">[16] STANDARD TRUSTCO SEES BETTER YEAR\n",
       "</a></b>     Toronto, Feb 26 - Standard Trustco said it expects earnings  in 1987 to increase at least 15 to 20 pct from the 9,140,000  dlrs, or 2.52 dlrs per share, recorded in 1986.      \"Stable interest rates and a growing economy are expected to ..."
      ],
      "text/plain": [
       "<IPython.core.display.HTML object>"
      ]
     },
     "metadata": {},
     "output_type": "display_data"
    },
    {
     "data": {
      "text/html": [
       "<b><a href=\"noticias/noticia37.txt\" target=\"_blank\">[17] COMPUTER LANGUAGE RESEARCH IN <CLRI> 4TH QTR\n",
       "</a></b>     CARROLLTON, Texas, Feb 26 -      Shr loss 22 cts vs loss 18 cts      Net loss 3,035,000 vs loss 2,516,000      Revs 20.9 mln vs 19.6 mln ..."
      ],
      "text/plain": [
       "<IPython.core.display.HTML object>"
      ]
     },
     "metadata": {},
     "output_type": "display_data"
    },
    {
     "data": {
      "text/html": [
       "<b><a href=\"noticias/noticia24.txt\" target=\"_blank\">[18] ESQUIRE RADIO AND ELECTRONICS INC <EE> 4TH QTR\n",
       "</a></b>     NEW YORK, Feb 26 -      Shr profit 15 cts vs profit four cts      Annual div 72 cts vs 72 cts prior yr      Net profit 72,000 vs profit 16,000 ..."
      ],
      "text/plain": [
       "<IPython.core.display.HTML object>"
      ]
     },
     "metadata": {},
     "output_type": "display_data"
    },
    {
     "data": {
      "text/html": [
       "<b><a href=\"noticias/noticia17.txt\" target=\"_blank\">[19] NATIONAL HEALTH ENHANCEMENT <NHES> NEW PROGRAM\n",
       "</a></b>     PHOENIX, Ariz., Feb 26 - National Health Enhancement  Systems Inc said it is offering a new health evaluation system  to its line of fitness assessment programs.      The company said the program, called The Health Test, will ..."
      ],
      "text/plain": [
       "<IPython.core.display.HTML object>"
      ]
     },
     "metadata": {},
     "output_type": "display_data"
    },
    {
     "data": {
      "text/html": [
       "<b><a href=\"noticias/noticia29.txt\" target=\"_blank\">[20] JANUARY HOUSING SALES DROP, REALTY GROUP SAYS\n",
       "</a></b>     WASHINGTON, Feb 26 - Sales of previously owned homes  dropped 14.5 pct in January to a seasonally adjusted annual  rate of 3.47 mln units, the National Association of Realtors  (NAR) said. ..."
      ],
      "text/plain": [
       "<IPython.core.display.HTML object>"
      ]
     },
     "metadata": {},
     "output_type": "display_data"
    },
    {
     "data": {
      "text/html": [
       "<b><a href=\"noticias/noticia7.txt\" target=\"_blank\">[21] RED LION INNS FILES PLANS OFFERING\n",
       "</a></b>     PORTLAND, Ore., Feb 26 - Red Lion Inns Limited Partnership  said it filed a registration statement with the Securities and  Exchange Commission covering a proposed offering of 4,790,000  units of limited partnership interests. ..."
      ],
      "text/plain": [
       "<IPython.core.display.HTML object>"
      ]
     },
     "metadata": {},
     "output_type": "display_data"
    },
    {
     "data": {
      "text/html": [
       "<b><a href=\"noticias/noticia43.txt\" target=\"_blank\">[22] SHULTZ SAYS NO RESIGNATION OVER IRAN REPORT\n",
       "</a></b>     ANCHORAGE, Alaska, Feb 26 - Secretary of State George  Shultz acknowledged failings in the Iran arms affair but  declared he would not resign.      His role in the scandal that has scarred the Reagan ..."
      ],
      "text/plain": [
       "<IPython.core.display.HTML object>"
      ]
     },
     "metadata": {},
     "output_type": "display_data"
    },
    {
     "data": {
      "text/html": [
       "<b><a href=\"noticias/noticia21.txt\" target=\"_blank\">[23] HUGHES CAPITAL UNIT SIGNS PACT WITH BEAR STEARNS\n",
       "</a></b>     FORT LAUDERDALE, Fla., Feb 26 - Hughes/Conserdyne Corp, a  unit of <Hughes Capital Corp> said it made Bear Stearns and Co  Inc <BSC> its exclusive investment banker to develop and market  financing for the design and installation of its micro-utility ..."
      ],
      "text/plain": [
       "<IPython.core.display.HTML object>"
      ]
     },
     "metadata": {},
     "output_type": "display_data"
    },
    {
     "data": {
      "text/html": [
       "<b><a href=\"noticias/noticia12.txt\" target=\"_blank\">[24] OHIO MATTRESS <OMT> MAY HAVE LOWER 1ST QTR NET\n",
       "</a></b>     CLEVELAND, Feb 26 - Ohio Mattress Co said its first  quarter, ending February 28, profits may be below the 2.4 mln  dlrs, or 15 cts a share, earned in the first quarter of fiscal  1986. ..."
      ],
      "text/plain": [
       "<IPython.core.display.HTML object>"
      ]
     },
     "metadata": {},
     "output_type": "display_data"
    },
    {
     "data": {
      "text/html": [
       "<b><a href=\"noticias/noticia41.txt\" target=\"_blank\">[25] HANDY AND HARMAN <HNH> 4TH QTR LOSS\n",
       "</a></b>     NEW YORK, Feb 26 -      Shr loss 51 cts vs loss three cts      Net loss 7,041,000 vs loss 467,000      Rev 138.9 mln vs 131.4 mln ..."
      ],
      "text/plain": [
       "<IPython.core.display.HTML object>"
      ]
     },
     "metadata": {},
     "output_type": "display_data"
    },
    {
     "data": {
      "text/html": [
       "<b><a href=\"noticias/noticia44.txt\" target=\"_blank\">[26] MCLEAN'S <MII> U.S. LINES SETS ASSET TRANSFER\n",
       "</a></b>     CRANFORD, N.J., Feb 26 - McLean Industries Inc's United  States Lines Inc subsidiary said it has agreed in principle to  transfer its South American service by arranging for the  transfer of certain charters and assets to <Crowley Mariotime ..."
      ],
      "text/plain": [
       "<IPython.core.display.HTML object>"
      ]
     },
     "metadata": {},
     "output_type": "display_data"
    },
    {
     "data": {
      "text/html": [
       "<b><a href=\"noticias/noticia19.txt\" target=\"_blank\">[27] BONUS WHEAT FLOUR FOR NORTH YEMEN  -- USDA\n",
       "</a></b>     WASHINGTON, Feb 26 - The Commodity Credit Corporation, CCC,  has accepted an export bonus offer to cover the sale of 37,000  long tons of wheat flour to North Yemen, the U.S. Agriculture  Department said. ..."
      ],
      "text/plain": [
       "<IPython.core.display.HTML object>"
      ]
     },
     "metadata": {},
     "output_type": "display_data"
    },
    {
     "data": {
      "text/html": [
       "<b><a href=\"noticias/noticia42.txt\" target=\"_blank\">[28] ICO PRODUCERS TO PRESENT NEW COFFEE PROPOSAL\n",
       "</a></b>     LONDON, Feb 26 - International Coffee Organization, ICO,  producing countries will present a proposal for reintroducing  export quotas for 12 months from April 1 with a firm  undertaking to try to negotiate up to September 30 any future ..."
      ],
      "text/plain": [
       "<IPython.core.display.HTML object>"
      ]
     },
     "metadata": {},
     "output_type": "display_data"
    },
    {
     "data": {
      "text/html": [
       "<b><a href=\"noticias/noticia20.txt\" target=\"_blank\">[29] CREDIT CARD DISCLOSURE BILLS INTRODUCED\n",
       "</a></b>     WASHINGTON, Feb 26 - Legislation to require disclosure of  credit card fees and interest rates before the cards are issued  have been introduced in the Senate and House.      Sen. Chris Dodd, D-Conn, a co-sponsor of the bill, said ..."
      ],
      "text/plain": [
       "<IPython.core.display.HTML object>"
      ]
     },
     "metadata": {},
     "output_type": "display_data"
    },
    {
     "data": {
      "text/html": [
       "<b><a href=\"noticias/noticia2.txt\" target=\"_blank\">[30] STANDARD OIL <SRD> TO FORM FINANCIAL UNIT\n",
       "</a></b>     CLEVELAND, Feb 26 - Standard Oil Co and BP North America  Inc said they plan to form a venture to manage the money market  borrowing and investment activities of both companies.      BP North America is a subsidiary of British Petroleum Co ..."
      ],
      "text/plain": [
       "<IPython.core.display.HTML object>"
      ]
     },
     "metadata": {},
     "output_type": "display_data"
    },
    {
     "data": {
      "text/html": [
       "<b><a href=\"noticias/noticia49.txt\" target=\"_blank\">[31] AGENCY REPORTS 39 SHIPS WAITING AT PANAMA CANAL\n",
       "</a></b>     WASHINGTON, Feb 26 - The Panama Canal Commission, a U.S.  government agency, said in its daily operations report that  there was a backlog of 39 ships waiting to enter the canal  early today. Over the next two days it expects --               ..."
      ],
      "text/plain": [
       "<IPython.core.display.HTML object>"
      ]
     },
     "metadata": {},
     "output_type": "display_data"
    },
    {
     "data": {
      "text/html": [
       "<b><a href=\"noticias/noticia8.txt\" target=\"_blank\">[32] USX <X> DEBT DOWGRADED BY MOODY'S\n",
       "</a></b>     NEW YORK, Feb 26 - Moody's Investors Service Inc said it  lowered the debt and preferred stock ratings of USX Corp and  its units. About seven billion dlrs of securities is affected.      Moody's said Marathon Oil Co's recent establishment of up ..."
      ],
      "text/plain": [
       "<IPython.core.display.HTML object>"
      ]
     },
     "metadata": {},
     "output_type": "display_data"
    },
    {
     "data": {
      "text/html": [
       "<b><a href=\"noticias/noticia15.txt\" target=\"_blank\">[33] NATIONAL INTERGROUP<NII> TO OFFER PERMIAN UNITS\n",
       "</a></b>     PITTSBURGH, Feb 26 - National Intergroup Inc said it plans  to file a registration statement with the securities and  exchange commission for an offering of cumulative convertible  preferred partnership units in Permian Partners L.P. ..."
      ],
      "text/plain": [
       "<IPython.core.display.HTML object>"
      ]
     },
     "metadata": {},
     "output_type": "display_data"
    },
    {
     "data": {
      "text/html": [
       "<b><a href=\"noticias/noticia13.txt\" target=\"_blank\">[34] AM INTERNATIONAL INC <AM> 2ND QTR JAN 31\n",
       "</a></b>     CHICAGO, Feb 26 -      Oper shr loss two cts vs profit seven cts      Oper shr profit 442,000 vs profit 2,986,000      Revs 291.8 mln vs 151.1 mln ..."
      ],
      "text/plain": [
       "<IPython.core.display.HTML object>"
      ]
     },
     "metadata": {},
     "output_type": "display_data"
    },
    {
     "data": {
      "text/html": [
       "<b><a href=\"noticias/noticia39.txt\" target=\"_blank\">[35] DU PONT CO <DD> LAUNCHES IMPROVED ARAMID FIBERS\n",
       "</a></b>     WILMINGTON, Del., Feb 26 - The Du Pont Co said it has  devloped a new generation of high-strength aramid fibers which  is stiffer and less absorbant than previous generations.      Du Pont said the new product, Kevlar 149, is up to 40 pct ..."
      ],
      "text/plain": [
       "<IPython.core.display.HTML object>"
      ]
     },
     "metadata": {},
     "output_type": "display_data"
    },
    {
     "data": {
      "text/html": [
       "<b><a href=\"noticias/noticia46.txt\" target=\"_blank\">[36] U.S. SUGAR IMPORTS DOWN IN WEEK - USDA\n",
       "</a></b>     WASHINGTON, Feb 26 - Sugar imports subject to the U.S.  sugar import quota during the week ended January 9, the initial  week of the 1987 sugar quota year, totaled 5,988 short tons  versus 46,254 tons the previous week, the Agriculture ..."
      ],
      "text/plain": [
       "<IPython.core.display.HTML object>"
      ]
     },
     "metadata": {},
     "output_type": "display_data"
    },
    {
     "data": {
      "text/html": [
       "<b><a href=\"noticias/noticia32.txt\" target=\"_blank\">[37] SENATORS INTRODUCE EXPORT LICENSING REFORM BILL\n",
       "</a></b>     WASHINGTON, Feb 26 - Sens. Alan Cranston (D-Cal.) and  Daniel Evans (R-Wash.) said they introduced export licensing  reform legislation that could save U.S. companies hundreds of  thousands of dollars annually. ..."
      ],
      "text/plain": [
       "<IPython.core.display.HTML object>"
      ]
     },
     "metadata": {},
     "output_type": "display_data"
    },
    {
     "data": {
      "text/html": [
       "<b><a href=\"noticias/noticia47.txt\" target=\"_blank\">[38] BRAZIL ANTI-INFLATION PLAN LIMPS TO ANNIVERSARY\n",
       "</a></b>     RIO DE JANEIRO, Feb 26 - Brazil's \"Cruzado\" anti- inflation  plan, initially hailed at home and abroad as the saviour of the  economy, is limping towards its first anniversary amid soaring  prices, widespread shortages and a foreign payments crisis. ..."
      ],
      "text/plain": [
       "<IPython.core.display.HTML object>"
      ]
     },
     "metadata": {},
     "output_type": "display_data"
    },
    {
     "data": {
      "text/html": [
       "<b><a href=\"noticias/noticia23.txt\" target=\"_blank\">[39] BROWN-FORMAN <BFDB> SETS STOCK SPLIT, UPS PAYOUT\n",
       "</a></b>     LOUISVILLE, Ky., Feb 26 - Brown-Forman Inc said its board  has approved a three-for-two stock split and a 35 pct increase  in the company cash dividend.      The company cited its improved earnings outlook and ..."
      ],
      "text/plain": [
       "<IPython.core.display.HTML object>"
      ]
     },
     "metadata": {},
     "output_type": "display_data"
    },
    {
     "data": {
      "text/html": [
       "<b><a href=\"noticias/noticia10.txt\" target=\"_blank\">[40] COMPUTER TERMINAL SYSTEMS <CPML> COMPLETES SALE\n",
       "</a></b>      COMMACK, N.Y., Feb 26 - Computer Terminal Systems Inc said  it has completed the sale of 200,000 shares of its common  stock, and warrants to acquire an additional one mln shares, to  <Sedio N.V.> of Lugano, Switzerland for 50,000 dlrs. ..."
      ],
      "text/plain": [
       "<IPython.core.display.HTML object>"
      ]
     },
     "metadata": {},
     "output_type": "display_data"
    },
    {
     "data": {
      "text/html": [
       "<b><a href=\"noticias/noticia18.txt\" target=\"_blank\">[41] DEAN FOODS <DF> SEES STRONG 4TH QTR EARNINGS\n",
       "</a></b>     CHICAGO, Feb 26 - Dean Foods Co expects earnings for the  fourth quarter ending May 30 to exceed those of the same  year-ago period, Chairman Kenneth Douglas told analysts.      In the fiscal 1986 fourth quarter the food processor ..."
      ],
      "text/plain": [
       "<IPython.core.display.HTML object>"
      ]
     },
     "metadata": {},
     "output_type": "display_data"
    },
    {
     "data": {
      "text/html": [
       "<b><a href=\"noticias/noticia26.txt\" target=\"_blank\">[42] BANKERS REPORT BREAKTHROUGH ON VENEZUELAN DEBT\n",
       "</a></b>     NEW YORK, Feb 26 - Venezuela and its bank advisory  committee have agreed in principle on revisions to the terms of  a 21 billion dlr debt-rescheduling package signed last  February, bankers said. ..."
      ],
      "text/plain": [
       "<IPython.core.display.HTML object>"
      ]
     },
     "metadata": {},
     "output_type": "display_data"
    },
    {
     "data": {
      "text/html": [
       "<b><a href=\"noticias/noticia5.txt\" target=\"_blank\">[43] NATIONAL AVERAGE PRICES FOR FARMER-OWNED RESERVE\n",
       "</a></b>     WASHINGTON, Feb 26 - The U.S. Agriculture Department  reported the farmer-owned reserve national five-day average  price through February 25 as follows (Dlrs/Bu-Sorghum Cwt) -           Natl   Loan           Release   Call ..."
      ],
      "text/plain": [
       "<IPython.core.display.HTML object>"
      ]
     },
     "metadata": {},
     "output_type": "display_data"
    },
    {
     "data": {
      "text/html": [
       "<b><a href=\"noticias/noticia16.txt\" target=\"_blank\">[44] ECONOMIC SPOTLIGHT - BANKAMERICA <BAC>\n",
       "</a></b>     by Janie Gabbett, Reuters      LOS ANGELES, Feb 26 - BankAmerica Corp is not under  pressure to act quickly on its proposed equity offering and  would do well to delay it because of the stock's recent poor ..."
      ],
      "text/plain": [
       "<IPython.core.display.HTML object>"
      ]
     },
     "metadata": {},
     "output_type": "display_data"
    },
    {
     "data": {
      "text/html": [
       "<b><a href=\"noticias/noticia4.txt\" target=\"_blank\">[45] TALKING POINT/BANKAMERICA <BAC> EQUITY OFFER\n",
       "</a></b>     by Janie Gabbett, Reuters      LOS ANGELES, Feb 26 - BankAmerica Corp is not under  pressure to act quickly on its proposed equity offering and  would do well to delay it because of the stock's recent poor ..."
      ],
      "text/plain": [
       "<IPython.core.display.HTML object>"
      ]
     },
     "metadata": {},
     "output_type": "display_data"
    },
    {
     "data": {
      "text/html": [
       "<b><a href=\"noticias/noticia45.txt\" target=\"_blank\">[46] CHEMLAWN <CHEM> RISES ON HOPES FOR HIGHER BIDS\n",
       "</a></b>     By Cal Mankowski, Reuters      NEW YORK, Feb 26 - ChemLawn Corp <CHEM> could attract a  higher bid than the 27 dlrs per share offered by Waste  Management Inc <WNX>, Wall Street arbitrageurs said. ..."
      ],
      "text/plain": [
       "<IPython.core.display.HTML object>"
      ]
     },
     "metadata": {},
     "output_type": "display_data"
    },
    {
     "data": {
      "text/html": [
       "<b><a href=\"noticias/noticia1.txt\" target=\"_blank\">[47] BAHIA COCOA REVIEW\n",
       "</a></b>     SALVADOR, Feb 26 - Showers continued throughout the week in  the Bahia cocoa zone, alleviating the drought since early  January and improving prospects for the coming temporao,  although normal humidity levels have not been restored, ..."
      ],
      "text/plain": [
       "<IPython.core.display.HTML object>"
      ]
     },
     "metadata": {},
     "output_type": "display_data"
    },
    {
     "data": {
      "text/html": [
       "<b><a href=\"noticias/noticia28.txt\" target=\"_blank\">[48] TOWER REPORT DIMINISHES REAGAN'S HOPES OF REBOUND\n",
       "</a></b>     By Michael Gelb, Reuters      WASHINGTON, Feb 26 - The Tower Commission report, which  says President Reagan was ignorant about much of the Iran arms  deal, just about ends his prospects of regaining political ..."
      ],
      "text/plain": [
       "<IPython.core.display.HTML object>"
      ]
     },
     "metadata": {},
     "output_type": "display_data"
    }
   ],
   "source": [
    "from ipywidgets import widgets\n",
    "from IPython.core.display import display, HTML\n",
    "from IPython.display import display\n",
    "from itertools import islice\n",
    "button=widgets.Button(description=\"Buscar\")\n",
    "text=widgets.Text()\n",
    "display(text) \n",
    "display(button)\n",
    "\n",
    "def mititulo(documentos, resultados):\n",
    "    display(HTML('<h1>RESULTADOS</h1>'))\n",
    "    for i in range(len(documentos)):\n",
    "        valor=max(resultados)\n",
    "        pos=resultados.index(valor)\n",
    "        noticia=documentos[pos]\n",
    "        file = open(\"noticias/noticia%d%s\" %(noticia,\".txt\"), \"r\")\n",
    "        tit=islice(file,1,2)\n",
    "        desc=islice(file,0,4)\n",
    "        descripcion=\"\"\n",
    "        for linea in tit:\n",
    "            titulo=linea\n",
    "        for linea in desc:\n",
    "            descripcion=descripcion+\" \"+linea\n",
    "        descripcion= descripcion.replace('\\n',' ')\n",
    "        file.close()\n",
    "        display(HTML('<b><a href=\"noticias/noticia%d.txt\" target=\"_blank\">[%d] %s</a></b>%s...'%(noticia,i+1,titulo,descripcion)))\n",
    "        resultados.pop(pos)\n",
    "        documentos.pop(pos)\n",
    "\n",
    "          \n",
    "        \n",
    "\n",
    "        \n",
    "        \n",
    "def handle_submit (sender):\n",
    "    busqueda(text.value)\n",
    "    \n",
    "\n",
    "\n",
    "def actionboton(b):\n",
    "    query=busqueda(text.value)\n",
    "    lista=diccionario_query(query)\n",
    "    queryfrecuencias=frec_query(lista)\n",
    "    tfidfquery=tfidf_query(queryfrecuencias)\n",
    "    documentos=consul_invertido(queryfrecuencias, indiceinv)\n",
    "    producto=producto_punto(documentos,tfidfquery)\n",
    "    mititulo(documentos, producto)\n",
    "    \n",
    "    \n",
    "    \n",
    "    \n",
    "text.on_submit(handle_submit)\n",
    "button.on_click(actionboton)\n"
   ]
  },
  {
   "cell_type": "code",
   "execution_count": null,
   "metadata": {
    "collapsed": false
   },
   "outputs": [],
   "source": []
  },
  {
   "cell_type": "code",
   "execution_count": 59,
   "metadata": {
    "collapsed": false
   },
   "outputs": [
    {
     "name": "stdout",
     "output_type": "stream",
     "text": [
      "[3, 29, 4]\n"
     ]
    }
   ],
   "source": [
    "\n"
   ]
  },
  {
   "cell_type": "code",
   "execution_count": null,
   "metadata": {
    "collapsed": false
   },
   "outputs": [],
   "source": []
  },
  {
   "cell_type": "code",
   "execution_count": null,
   "metadata": {
    "collapsed": true
   },
   "outputs": [],
   "source": []
  }
 ],
 "metadata": {
  "anaconda-cloud": {},
  "kernelspec": {
   "display_name": "Python [Root]",
   "language": "python",
   "name": "Python [Root]"
  },
  "language_info": {
   "codemirror_mode": {
    "name": "ipython",
    "version": 3
   },
   "file_extension": ".py",
   "mimetype": "text/x-python",
   "name": "python",
   "nbconvert_exporter": "python",
   "pygments_lexer": "ipython3",
   "version": "3.5.2"
  }
 },
 "nbformat": 4,
 "nbformat_minor": 0
}
