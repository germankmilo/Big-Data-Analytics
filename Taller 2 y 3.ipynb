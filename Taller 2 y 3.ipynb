{
 "cells": [
  {
   "cell_type": "code",
   "execution_count": null,
   "metadata": {
    "collapsed": true
   },
   "outputs": [],
   "source": [
    "#cantidad d documentos\n",
    "cant=200"
   ]
  },
  {
   "cell_type": "markdown",
   "metadata": {},
   "source": [
    "# 1) Cargar los archivos en formato de texto y guardarlos en coleccion mongodb\n"
   ]
  },
  {
   "cell_type": "code",
   "execution_count": null,
   "metadata": {
    "collapsed": true
   },
   "outputs": [],
   "source": [
    "import os\n",
    "import pymongo\n",
    "import datetime\n",
    "from pymongo import MongoClient\n",
    "import re\n",
    "from bs4 import BeautifulSoup\n",
    "import os\n",
    "import re\n",
    "from time import time \n",
    "from ipywidgets import widgets\n",
    "from IPython.core.display import display, HTML\n",
    "from IPython.display import display\n",
    "from itertools import islice\n",
    "matriz = []\n",
    "tiempo_inicial = time() \n",
    "formato=\".txt\"\n",
    "stopwords= \"(\\n|\\t|\\-|\\+|\\/|'s | a | about | above | after | again | against | all | am | an | and | any | are | aren't | as | at | be | because | been | before | being | below | between | both | but | by | can't | cannot | could | couldn't | did | didn't | do | does | doesn't | doing | don't | down | during | each | few | for | from | further | had | hadn't | has | hasn't | have | haven't | having | he | he'd | he'll | he's | her | here | here's | hers | herself | him | himself | his | how | how's | i | i'd | i'll | i'm | i've | if | in | into | is | isn't | it | it's | its | itself | let's | me | more | most | mustn't | my | myself | no | nor | not | of | off | on | once | only | or | other | ought | our | ours | ourselves | out | over | own | same | shan't | she | she'd | she'll | she's | should | shouldn't | so | some | such | than | that | that's | the | their | theirs | them | themselves | then | there | there's | these | they | they'd | they'll | they're | they've | this | those | through | to | tobe | too | under | until | up | very | was | wasn't | we | we'd | we'll | we'be | we're | we've | were | weren't | what | what's | when | when's | where | where's | which | while | who | who's | whom | why | why's | with | won't | would | wouldn't | you | you'd | you'll | you're | you've | your | yours | yourself | yourselves )\"\n",
    "simbolos = \"(\\\\|\\'|\\;|\\:|\\?|\\¿|\\<|\\>|\\,|\\*|\\(|\\)|\\¡|\\!|\\$|\\#|\\||\\%|\\&|\\=|\\[|\\])\" "
   ]
  },
  {
   "cell_type": "code",
   "execution_count": null,
   "metadata": {
    "collapsed": false
   },
   "outputs": [],
   "source": [
    "client = MongoClient()\n",
    "client = MongoClient('localhost', 27017)\n",
    "db = client.test_database\n",
    "collection = db.test_collection\n",
    "formato=\".txt\"\n",
    "inicio=0\n",
    "\n",
    "for cont in range(1):\n",
    "    archivo = open(\"reuters21578/reut2-00%d%s\" %(cont,\".sgm\"), \"r\")\n",
    "    \n",
    "    \n",
    "    contenido = archivo.read()\n",
    "    html = BeautifulSoup(contenido, \"lxml\")\n",
    "    entradas = html.find_all('reuters')\n",
    "  \n",
    "    #Creamos un documento cn tds las noticias\n",
    "    \n",
    "    for i,entrada in enumerate(entradas):\n",
    "        inicio=inicio+1\n",
    "        texto = entrada.find('text').getText()\n",
    "        documentos={\"_id\":inicio,\n",
    "            \"texto\": texto}\n",
    "        posts = db.posts\n",
    "        post_id = posts.insert_one(documentos)\n",
    "        \n",
    "        \n",
    "print (\"TODOS LOS DOCUMENTOS HAN SIDO CREADOS CON EXITO\")            \n",
    "\n"
   ]
  },
  {
   "cell_type": "markdown",
   "metadata": {},
   "source": [
    "# 2.quitar stopwords"
   ]
  },
  {
   "cell_type": "code",
   "execution_count": null,
   "metadata": {
    "collapsed": false
   },
   "outputs": [],
   "source": [
    "#Leemos cada archivo, guardamos su informacion en la variable texto y procedemos a limpiarla\n",
    "for cont in range(cant):\n",
    "    texto = db.posts.find_one({'_id':cont+1}).get('texto')\n",
    "    texto=texto.lower()\n",
    "    texto=' '+texto+' '\n",
    "    texto= texto.replace('.','')\n",
    "    texto= texto.replace('\\\"',' ')\n",
    "    texto=re.sub(simbolos,' ',texto)\n",
    "    texto=re.sub('[0-9]','',texto)\n",
    "    texto=re.sub(' +',' ',texto)\n",
    "    texto=re.sub(\"( '|' )\",' ',texto)\n",
    "    for a in range(5):\n",
    "        texto=re.sub(stopwords,' ',texto)\n",
    "    texto=re.sub(\"'\",' ',texto)    \n",
    "    documentos={\"_id\":cont+1,\n",
    "    \"texto\": texto}\n",
    "    posts1 = db.posts1\n",
    "    post1_id = posts1.insert_one(documentos)\n",
    "\n",
    "print (\"TODOS LOS DOCUMENTOS <<TEMPORALES>> HAN SIDO CREADOS CON EXITO\")\n",
    "\n"
   ]
  },
  {
   "cell_type": "markdown",
   "metadata": {},
   "source": [
    "# 3.Crea diccionario "
   ]
  },
  {
   "cell_type": "code",
   "execution_count": null,
   "metadata": {
    "collapsed": false
   },
   "outputs": [],
   "source": [
    "lista = []\n",
    "for cont in range(cant):\n",
    "    data = db.posts1.find_one({'_id':cont+1}).get('texto')\n",
    "    for palabra  in data.split(' '):\n",
    "        if palabra not in lista:\n",
    "            lista.append(palabra)\n",
    "    if cont%1000==0:\n",
    "        print (cont)\n",
    "lista.pop(0)\n",
    "print('Se han creado %d palabras en el Diccionario'%(len(lista)))\n",
    "\n",
    "               "
   ]
  },
  {
   "cell_type": "code",
   "execution_count": null,
   "metadata": {
    "collapsed": false
   },
   "outputs": [],
   "source": [
    "\n",
    "for numero, palabra in enumerate(lista):\n",
    "    numero+=1\n",
    "    \n",
    "    documentos={'_id':numero,\n",
    "               'dato':palabra}\n",
    "    diccionario = db.diccionario\n",
    "    diccionario_id = diccionario.insert_one(documentos)\n"
   ]
  },
  {
   "cell_type": "code",
   "execution_count": null,
   "metadata": {
    "collapsed": false
   },
   "outputs": [],
   "source": [
    "#tf\n",
    "    \n",
    "for i in range(cant):\n",
    "    data=db.posts1.find_one({'_id':i+1}).get('texto')\n",
    "    matriz.append([])\n",
    "    for j in range(len(lista)):\n",
    "        contador=0\n",
    "        for palabra in data.split(' '):\n",
    "            if palabra== lista[j]:\n",
    "                contador=contador+1\n",
    "        matriz[i].append(contador)\n",
    "    if i%10==0:\n",
    "        print('%d filas generadas'%(i))        \n",
    "tiempo_final = time() \n",
    "tiempo_ejecucion = tiempo_final - tiempo_inicial                \n",
    "print ('Hecho: Tiempo de ejecución =%d' %(tiempo_ejecucion))"
   ]
  },
  {
   "cell_type": "markdown",
   "metadata": {},
   "source": [
    "# indice invertido "
   ]
  },
  {
   "cell_type": "code",
   "execution_count": null,
   "metadata": {
    "collapsed": false
   },
   "outputs": [],
   "source": [
    "indiceinv=[]\n",
    "for j in range(len(lista)):\n",
    "    contador=0\n",
    "    indiceinv.append([])\n",
    "    for i in range(cant):\n",
    "        if matriz[i][j]!=0:\n",
    "            indiceinv[j].append(i+1)\n",
    "print(indiceinv)          "
   ]
  },
  {
   "cell_type": "code",
   "execution_count": null,
   "metadata": {
    "collapsed": false
   },
   "outputs": [],
   "source": [
    "#Total palabras\n",
    "palabras=[]\n",
    "\n",
    "for i in range(cant):\n",
    "    suma=0\n",
    "    for palabra in matriz[i]:\n",
    "        suma+=palabra       \n",
    "    palabras.append(suma)\n",
    "print (palabras) \n"
   ]
  },
  {
   "cell_type": "markdown",
   "metadata": {},
   "source": [
    "# Bag of words"
   ]
  },
  {
   "cell_type": "code",
   "execution_count": null,
   "metadata": {
    "collapsed": false,
    "scrolled": false
   },
   "outputs": [],
   "source": [
    "matrizbowfila=[]\n",
    "matrizbow=[]\n",
    "\n",
    "for k,i in enumerate(palabras):\n",
    "    matrizbowfila=[]\n",
    "    for j, valor in enumerate(matriz[k]):\n",
    "        \n",
    "        valor=float(valor)\n",
    "        i=float(i)\n",
    "        almacen=valor/i\n",
    "        matrizbowfila.append(almacen)\n",
    "    matrizbow.append(matrizbowfila)"
   ]
  },
  {
   "cell_type": "markdown",
   "metadata": {},
   "source": [
    "# Funciones para tratamiento de la query"
   ]
  },
  {
   "cell_type": "code",
   "execution_count": null,
   "metadata": {
    "collapsed": false,
    "scrolled": true
   },
   "outputs": [],
   "source": [
    "def busqueda(query):\n",
    "    query=' '+query+' '\n",
    "    query=query.lower()\n",
    "    query= query.replace('.','')\n",
    "    query= query.replace('\\\"',' ')\n",
    "    query=re.sub(simbolos,' ',query)\n",
    "    query=re.sub('[0-9]','',query)\n",
    "    query=re.sub(' +',' ',query)\n",
    "    query=re.sub(\"( '|' )\",' ',query)\n",
    "    for a in range(5):\n",
    "        query=re.sub(stopwords,' ',query)\n",
    "    return query\n",
    "\n",
    "def diccionario_query(query):\n",
    "    dicquery=query.split(\" \")\n",
    "    dicquery.pop(0)\n",
    "    dicquery.pop(-1)\n",
    "    return dicquery\n",
    "\n",
    "\n",
    "def frec_query(listaquery):\n",
    "    frec_query=[]*len(lista)\n",
    "    for i in range(len(lista)):\n",
    "        frec_query.append(0)\n",
    "    for i in range(len(listaquery)):\n",
    "        if listaquery[i] in lista:\n",
    "            ind=lista.index(listaquery[i])\n",
    "            valor = frec_query[ind]+1\n",
    "            frec_query[ind]=valor\n",
    "    return frec_query    \n",
    "        \n",
    "\n",
    "def bow_query(frec_query, query):\n",
    "    bow_query=[]\n",
    "    for i in range(len(frec_query)):\n",
    "        bow_query.append(0)\n",
    "    for i in range(len(frec_query)):\n",
    "        if frec_query[i]!=0:\n",
    "            bow_query[i]=float(frec_query[i])/float(len(query))\n",
    "    return bow_query        \n",
    "\n",
    "\n",
    "def consul_invertido(frec_query):\n",
    "    arraydocumento=[]\n",
    "    for i in range(len(frec_query)):\n",
    "        if frec_query[i]!=0:\n",
    "            arraydocumento=list(set().union(arraydocumento, indiceinv[i]))\n",
    "    return arraydocumento        \n",
    "\n",
    "def desempeno(arraydocumento, bow_query):\n",
    "    resultados=[]\n",
    "    for i in range(len(arraydocumento)):\n",
    "        c=arraydocumento[i]\n",
    "        suma=0\n",
    "        for r in range(len(lista)):\n",
    "            minimo=min(bow_query[r],matrizbow[c-1][r])\n",
    "            suma=suma+minimo\n",
    "        resultados.append(suma)\n",
    "    return resultados\n",
    "    \n",
    "      \n",
    "\n"
   ]
  },
  {
   "cell_type": "code",
   "execution_count": null,
   "metadata": {
    "collapsed": false
   },
   "outputs": [],
   "source": [
    "\n",
    "button=widgets.Button(description=\"Buscar\")\n",
    "text=widgets.Text()\n",
    "display(text) \n",
    "display(button)\n",
    "\n",
    "def mititulo(documentos, resultados):\n",
    "    display(HTML('<h1>RESULTADOS</h1>'))\n",
    "    for i in range(len(documentos)):\n",
    "        valor=max(resultados)\n",
    "        pos=resultados.index(valor)\n",
    "        noticia=documentos[pos]\n",
    "        \n",
    "        texto = db.posts.find_one({'_id':noticia}).get('texto')\n",
    "        desc=islice(texto,0,100)\n",
    "        descripcion=\"\"\n",
    "        for linea in desc:\n",
    "            descripcion=descripcion+linea\n",
    "        descripcion= descripcion.replace('\\n',' ')\n",
    "        \n",
    "        display(HTML('<b><a href=\"noticias/noticia%d.txt\" target=\"_blank\">[%d] </a></b>%s...'%(noticia,i+1,descripcion)))\n",
    "        resultados.pop(pos)\n",
    "        documentos.pop(pos)\n",
    "\n",
    "          \n",
    "        \n",
    "\n",
    "        \n",
    "        \n",
    "def handle_submit (sender):\n",
    "    busqueda(text.value)\n",
    "    \n",
    "\n",
    "\n",
    "def actionboton(b):\n",
    "    direccion=open(text.value,'r')\n",
    "    archivo=direccion.read()\n",
    "    direccion.close()\n",
    "    query=busqueda(archivo)\n",
    "    lista=diccionario_query(query)\n",
    "    queryfrecuencias=frec_query(lista)\n",
    "    bowquery=bow_query(queryfrecuencias, lista)\n",
    "    documentos=consul_invertido(queryfrecuencias)\n",
    "    producto=desempeno(documentos,bowquery)\n",
    "    mititulo(documentos, producto)\n",
    "    \n",
    "    \n",
    "    \n",
    "    \n",
    "text.on_submit(handle_submit)\n",
    "button.on_click(actionboton)\n"
   ]
  },
  {
   "cell_type": "code",
   "execution_count": null,
   "metadata": {
    "collapsed": false
   },
   "outputs": [],
   "source": []
  },
  {
   "cell_type": "code",
   "execution_count": null,
   "metadata": {
    "collapsed": false
   },
   "outputs": [],
   "source": []
  },
  {
   "cell_type": "code",
   "execution_count": null,
   "metadata": {
    "collapsed": true
   },
   "outputs": [],
   "source": []
  }
 ],
 "metadata": {
  "anaconda-cloud": {},
  "kernelspec": {
   "display_name": "Python [Root]",
   "language": "python",
   "name": "Python [Root]"
  },
  "language_info": {
   "codemirror_mode": {
    "name": "ipython",
    "version": 3
   },
   "file_extension": ".py",
   "mimetype": "text/x-python",
   "name": "python",
   "nbconvert_exporter": "python",
   "pygments_lexer": "ipython3",
   "version": "3.5.2"
  }
 },
 "nbformat": 4,
 "nbformat_minor": 0
}
